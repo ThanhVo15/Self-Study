{
  "cells": [
    {
      "cell_type": "markdown",
      "metadata": {},
      "source": [
        "# Optimizing the model parameters\n",
        "\n",
        "Now that we have a model and data it's time to train, validate, and test our model by optimizing its parameters on our data. Training a model is an iterative process; in each iteration (*epoch*). The model makes a guess about the output, calculates the error in its guess (*loss*), collects the derivatives of the error with respect to its parameters (as we saw in the previous module), and **optimizes** these parameters using gradient descent. \n",
        "\n",
        "## Prerequisite code \n",
        "\n",
        "We'll load the code from the previous modules on **Datasets & DataLoaders** and **Build Model**."
      ]
    },
    {
      "cell_type": "code",
      "execution_count": 1,
      "metadata": {},
      "outputs": [
        {
          "name": "stderr",
          "output_type": "stream",
          "text": [
            "c:\\Users\\thanh\\AppData\\Local\\Programs\\Python\\Python312\\Lib\\site-packages\\tqdm\\auto.py:21: TqdmWarning: IProgress not found. Please update jupyter and ipywidgets. See https://ipywidgets.readthedocs.io/en/stable/user_install.html\n",
            "  from .autonotebook import tqdm as notebook_tqdm\n"
          ]
        }
      ],
      "source": [
        "%matplotlib inline\n",
        "import torch\n",
        "from torch import nn\n",
        "from torch.utils.data import DataLoader\n",
        "from torchvision import datasets\n",
        "from torchvision.transforms import ToTensor, Lambda\n",
        "\n",
        "training_data = datasets.FashionMNIST(\n",
        "    root=\"data\",\n",
        "    train=True,\n",
        "    download=True,\n",
        "    transform=ToTensor()\n",
        ")\n",
        "\n",
        "test_data = datasets.FashionMNIST(\n",
        "    root=\"data\",\n",
        "    train=False,\n",
        "    download=True,\n",
        "    transform=ToTensor()\n",
        ")\n",
        "\n",
        "train_dataloader = DataLoader(training_data, batch_size=64)\n",
        "test_dataloader = DataLoader(test_data, batch_size=64)\n",
        "\n",
        "class NeuralNetwork(nn.Module):\n",
        "    def __init__(self):\n",
        "        super(NeuralNetwork, self).__init__()\n",
        "        self.flatten = nn.Flatten()\n",
        "        self.linear_relu_stack = nn.Sequential(\n",
        "            nn.Linear(28*28, 512),\n",
        "            nn.ReLU(),\n",
        "            nn.Linear(512, 512),\n",
        "            nn.ReLU(),\n",
        "            nn.Linear(512, 10),\n",
        "            nn.ReLU()\n",
        "        )\n",
        "\n",
        "    def forward(self, x):\n",
        "        x = self.flatten(x)\n",
        "        logits = self.linear_relu_stack(x)\n",
        "        return logits\n",
        "\n",
        "model = NeuralNetwork()"
      ]
    },
    {
      "cell_type": "markdown",
      "metadata": {},
      "source": [
        "## Setting hyperparameters \n",
        "\n",
        "Hyperparameters are adjustable parameters that let you control the model optimization process. \n",
        "Different hyperparameter values can impact model training and the level of accuracy.\n",
        "\n",
        "We define the following hyperparameters for training:\n",
        " - **Number of Epochs** - the number times the entire training dataset is passed through the network. \n",
        " - **Batch Size** - the number of data samples seen by the model in each epoch. Iterates over the number of batches needed to complete an epoch.\n",
        " - **Learning Rate** - the size of steps that the model matches as it searches for the best weights that will produce a higher model accuracy. Smaller values means the model will take a longer time to find the best weights. Larger values may result in the model stepping over and missing the best weights, which yields unpredictable behavior during training."
      ]
    },
    {
      "cell_type": "code",
      "execution_count": 2,
      "metadata": {},
      "outputs": [],
      "source": [
        "learning_rate = 1e-3\n",
        "batch_size = 64\n",
        "epochs = 5"
      ]
    },
    {
      "cell_type": "markdown",
      "metadata": {},
      "source": [
        "## Add an optimization loop\n",
        "\n",
        "Once we set our hyperparameters, we can then train and optimize our model with an optimization loop. Each iteration of the optimization loop is called an **epoch**. \n",
        "\n",
        "Each epoch consists of two main parts:\n",
        " - **The Train Loop** - iterate over the training dataset and try to converge to optimal parameters.\n",
        " - **The Validation/Test Loop** - iterate over the test dataset to check if model performance is improving.\n",
        "\n",
        "Let's examine some of the concepts used in the training loop. Jump ahead to see the full implementation of the optimization loop.\n",
        "\n",
        "### Add a loss function\n",
        "\n",
        "When presented with some training data, our untrained network is likely not to give the correct answer. A **loss function** measures the degree of dissimilarity of an obtained result to the target value, and it is the loss function that we want to minimize during training. To calculate the loss we make a prediction using the inputs of our given data sample and compare it against the true data label value.\n",
        "\n",
        "Common loss functions include:\n",
        "\n",
        "- `nn.MSELoss` (Mean Square Error) used for regression tasks\n",
        "- `nn.NLLLoss` (Negative Log Likelihood) used for classification\n",
        "- `nn.CrossEntropyLoss` combines `nn.LogSoftmax` and `nn.NLLLoss`\n",
        "\n",
        "We pass our model's output logits to `nn.CrossEntropyLoss`, which will normalize the logits and compute the prediction error."
      ]
    },
    {
      "cell_type": "code",
      "execution_count": 3,
      "metadata": {},
      "outputs": [],
      "source": [
        "# Initialize the loss function\n",
        "loss_fn = nn.CrossEntropyLoss()"
      ]
    },
    {
      "cell_type": "markdown",
      "metadata": {},
      "source": [
        "### Optimization pass\n",
        "\n",
        "Optimization is the process of adjusting model parameters to reduce model error in each training step. **Optimization algorithms** define how this process is performed (in this example we use *Stochastic Gradient Descent*).\n",
        "All optimization logic is encapsulated in  the `optimizer` object. Here, we use the SGD optimizer; there are many different optimizers\n",
        "available in PyTorch such as `ADAM` and `RMSProp`, that are suited for different kinds of models and data.\n",
        "\n",
        "We initialize the optimizer by registering the model's parameters that need to be trained, and passing in the learning rate hyperparameter."
      ]
    },
    {
      "cell_type": "code",
      "execution_count": 4,
      "metadata": {},
      "outputs": [],
      "source": [
        "optimizer = torch.optim.SGD(model.parameters(), lr=learning_rate)"
      ]
    },
    {
      "cell_type": "markdown",
      "metadata": {},
      "source": [
        "Inside the training loop, optimization happens in three steps:\n",
        " * Call `optimizer.zero_grad()` to reset the gradients of model parameters. Gradients by default add up; to prevent double-counting, we explicitly zero them at each iteration.\n",
        " * Back-propagate the prediction loss with a call to `loss.backwards()`. PyTorch deposits the gradients of the loss with respect to each parameter. \n",
        " * Once we have our gradients, we call `optimizer.step()` to adjust the parameters by the gradients collected in the backward pass."
      ]
    },
    {
      "cell_type": "markdown",
      "metadata": {},
      "source": [
        "## Full implementation\n",
        "\n",
        "We define a `train_loop` function that loops over our optimization code, and a `test_loop` function that \n",
        "evaluates the model's performance against our test data."
      ]
    },
    {
      "cell_type": "code",
      "execution_count": 5,
      "metadata": {},
      "outputs": [],
      "source": [
        "def train_loop(dataloader, model, loss_fn, optimizer):\n",
        "    size = len(dataloader.dataset)\n",
        "    for batch, (X, y) in enumerate(dataloader):        \n",
        "        # Compute prediction and loss\n",
        "        pred = model(X)\n",
        "        loss = loss_fn(pred, y)\n",
        "        \n",
        "        # Backpropagation\n",
        "        optimizer.zero_grad()\n",
        "        loss.backward()\n",
        "        optimizer.step()\n",
        "\n",
        "        if batch % 100 == 0:\n",
        "            loss, current = loss.item(), batch * len(X)\n",
        "            print(f\"loss: {loss:>7f}  [{current:>5d}/{size:>5d}]\")\n",
        "\n",
        "\n",
        "def test_loop(dataloader, model, loss_fn):\n",
        "    size = len(dataloader.dataset)\n",
        "    test_loss, correct = 0, 0\n",
        "\n",
        "    with torch.no_grad():\n",
        "        for X, y in dataloader:\n",
        "            pred = model(X)\n",
        "            test_loss += loss_fn(pred, y).item()\n",
        "            correct += (pred.argmax(1) == y).type(torch.float).sum().item()\n",
        "            \n",
        "    test_loss /= size\n",
        "    correct /= size\n",
        "    print(f\"Test Error: \\n Accuracy: {(100*correct):>0.1f}%, Avg loss: {test_loss:>8f} \\n\")"
      ]
    },
    {
      "cell_type": "markdown",
      "metadata": {},
      "source": [
        "We initialize the loss function and optimizer, and pass it to `train_loop` and `test_loop`.\n",
        "Feel free to increase the number of epochs to track the model's improving performance."
      ]
    },
    {
      "cell_type": "code",
      "execution_count": 6,
      "metadata": {},
      "outputs": [
        {
          "name": "stdout",
          "output_type": "stream",
          "text": [
            "Epoch 1\n",
            "-------------------------------\n",
            "loss: 2.296448  [    0/60000]\n",
            "loss: 2.291764  [ 6400/60000]\n",
            "loss: 2.279067  [12800/60000]\n",
            "loss: 2.282219  [19200/60000]\n",
            "loss: 2.259112  [25600/60000]\n",
            "loss: 2.233951  [32000/60000]\n",
            "loss: 2.239024  [38400/60000]\n",
            "loss: 2.203984  [44800/60000]\n",
            "loss: 2.212267  [51200/60000]\n",
            "loss: 2.183157  [57600/60000]\n",
            "Test Error: \n",
            " Accuracy: 49.6%, Avg loss: 0.034394 \n",
            "\n",
            "Epoch 2\n",
            "-------------------------------\n",
            "loss: 2.192066  [    0/60000]\n",
            "loss: 2.194867  [ 6400/60000]\n",
            "loss: 2.148672  [12800/60000]\n",
            "loss: 2.170198  [19200/60000]\n",
            "loss: 2.121914  [25600/60000]\n",
            "loss: 2.064475  [32000/60000]\n",
            "loss: 2.093493  [38400/60000]\n",
            "loss: 2.018501  [44800/60000]\n",
            "loss: 2.048467  [51200/60000]\n",
            "loss: 1.970114  [57600/60000]\n",
            "Test Error: \n",
            " Accuracy: 51.5%, Avg loss: 0.031246 \n",
            "\n",
            "Epoch 3\n",
            "-------------------------------\n",
            "loss: 2.015152  [    0/60000]\n",
            "loss: 2.000945  [ 6400/60000]\n",
            "loss: 1.904706  [12800/60000]\n",
            "loss: 1.949479  [19200/60000]\n",
            "loss: 1.865755  [25600/60000]\n",
            "loss: 1.779414  [32000/60000]\n",
            "loss: 1.830114  [38400/60000]\n",
            "loss: 1.707925  [44800/60000]\n",
            "loss: 1.785369  [51200/60000]\n",
            "loss: 1.651690  [57600/60000]\n",
            "Test Error: \n",
            " Accuracy: 59.4%, Avg loss: 0.026443 \n",
            "\n",
            "Epoch 4\n",
            "-------------------------------\n",
            "loss: 1.747537  [    0/60000]\n",
            "loss: 1.715822  [ 6400/60000]\n",
            "loss: 1.560582  [12800/60000]\n",
            "loss: 1.635462  [19200/60000]\n",
            "loss: 1.551316  [25600/60000]\n",
            "loss: 1.463391  [32000/60000]\n",
            "loss: 1.517895  [38400/60000]\n",
            "loss: 1.387150  [44800/60000]\n",
            "loss: 1.473791  [51200/60000]\n",
            "loss: 1.344214  [57600/60000]\n",
            "Test Error: \n",
            " Accuracy: 63.5%, Avg loss: 0.021579 \n",
            "\n",
            "Epoch 5\n",
            "-------------------------------\n",
            "loss: 1.446995  [    0/60000]\n",
            "loss: 1.429810  [ 6400/60000]\n",
            "loss: 1.246678  [12800/60000]\n",
            "loss: 1.362476  [19200/60000]\n",
            "loss: 1.262651  [25600/60000]\n",
            "loss: 1.224080  [32000/60000]\n",
            "loss: 1.273743  [38400/60000]\n",
            "loss: 1.161252  [44800/60000]\n",
            "loss: 1.238072  [51200/60000]\n",
            "loss: 1.136908  [57600/60000]\n",
            "Test Error: \n",
            " Accuracy: 64.6%, Avg loss: 0.018240 \n",
            "\n",
            "Epoch 6\n",
            "-------------------------------\n",
            "loss: 1.226811  [    0/60000]\n",
            "loss: 1.235406  [ 6400/60000]\n",
            "loss: 1.037180  [12800/60000]\n",
            "loss: 1.182199  [19200/60000]\n",
            "loss: 1.072703  [25600/60000]\n",
            "loss: 1.064745  [32000/60000]\n",
            "loss: 1.118799  [38400/60000]\n",
            "loss: 1.021113  [44800/60000]\n",
            "loss: 1.089527  [51200/60000]\n",
            "loss: 1.010303  [57600/60000]\n",
            "Test Error: \n",
            " Accuracy: 65.2%, Avg loss: 0.016138 \n",
            "\n",
            "Epoch 7\n",
            "-------------------------------\n",
            "loss: 1.081239  [    0/60000]\n",
            "loss: 1.114075  [ 6400/60000]\n",
            "loss: 0.900347  [12800/60000]\n",
            "loss: 1.064592  [19200/60000]\n",
            "loss: 0.958295  [25600/60000]\n",
            "loss: 0.956910  [32000/60000]\n",
            "loss: 1.022112  [38400/60000]\n",
            "loss: 0.934534  [44800/60000]\n",
            "loss: 0.993815  [51200/60000]\n",
            "loss: 0.929761  [57600/60000]\n",
            "Test Error: \n",
            " Accuracy: 66.0%, Avg loss: 0.014775 \n",
            "\n",
            "Epoch 8\n",
            "-------------------------------\n",
            "loss: 0.980894  [    0/60000]\n",
            "loss: 1.035368  [ 6400/60000]\n",
            "loss: 0.806749  [12800/60000]\n",
            "loss: 0.984949  [19200/60000]\n",
            "loss: 0.885060  [25600/60000]\n",
            "loss: 0.879898  [32000/60000]\n",
            "loss: 0.957666  [38400/60000]\n",
            "loss: 0.879628  [44800/60000]\n",
            "loss: 0.928284  [51200/60000]\n",
            "loss: 0.874673  [57600/60000]\n",
            "Test Error: \n",
            " Accuracy: 67.2%, Avg loss: 0.013840 \n",
            "\n",
            "Epoch 9\n",
            "-------------------------------\n",
            "loss: 0.907317  [    0/60000]\n",
            "loss: 0.979672  [ 6400/60000]\n",
            "loss: 0.739488  [12800/60000]\n",
            "loss: 0.928216  [19200/60000]\n",
            "loss: 0.834299  [25600/60000]\n",
            "loss: 0.823029  [32000/60000]\n",
            "loss: 0.910909  [38400/60000]\n",
            "loss: 0.843324  [44800/60000]\n",
            "loss: 0.881156  [51200/60000]\n",
            "loss: 0.833641  [57600/60000]\n",
            "Test Error: \n",
            " Accuracy: 68.4%, Avg loss: 0.013154 \n",
            "\n",
            "Epoch 10\n",
            "-------------------------------\n",
            "loss: 0.850418  [    0/60000]\n",
            "loss: 0.936808  [ 6400/60000]\n",
            "loss: 0.688537  [12800/60000]\n",
            "loss: 0.885729  [19200/60000]\n",
            "loss: 0.796733  [25600/60000]\n",
            "loss: 0.779530  [32000/60000]\n",
            "loss: 0.874103  [38400/60000]\n",
            "loss: 0.817786  [44800/60000]\n",
            "loss: 0.845510  [51200/60000]\n",
            "loss: 0.801193  [57600/60000]\n",
            "Test Error: \n",
            " Accuracy: 69.5%, Avg loss: 0.012621 \n",
            "\n",
            "Done!\n"
          ]
        }
      ],
      "source": [
        "loss_fn = nn.CrossEntropyLoss()\n",
        "optimizer = torch.optim.SGD(model.parameters(), lr=learning_rate)\n",
        "\n",
        "epochs = 10\n",
        "for t in range(epochs):\n",
        "    print(f\"Epoch {t+1}\\n-------------------------------\")\n",
        "    train_loop(train_dataloader, model, loss_fn, optimizer)\n",
        "    test_loop(test_dataloader, model, loss_fn)\n",
        "print(\"Done!\")"
      ]
    },
    {
      "cell_type": "markdown",
      "metadata": {},
      "source": [
        "You may have noticed that the model is initially not very good (that's OK!). Try running the loop for more `epochs` or adjusting the `learning_rate` to a bigger number. It might also be the case that the model configuration we chose might not be the optimal one for this kind of problem (it isn't). Later courses will delve more into the model shapes that work for vision problems.\n"
      ]
    },
    {
      "cell_type": "markdown",
      "metadata": {},
      "source": [
        "Saving Models\n",
        "-------------\n",
        "\n",
        "When you are satisfied with the model's performance, you can use `torch.save` to save it. PyTorch models store the learned parameters in an internal state dictionary, called `state_dict`. These can be persisted wit the `torch.save` method:"
      ]
    },
    {
      "cell_type": "code",
      "execution_count": 7,
      "metadata": {},
      "outputs": [
        {
          "name": "stdout",
          "output_type": "stream",
          "text": [
            "Saved PyTorch Model State to model.pth\n"
          ]
        }
      ],
      "source": [
        "torch.save(model.state_dict(), \"data/model.pth\")\n",
        "\n",
        "print(\"Saved PyTorch Model State to model.pth\")"
      ]
    }
  ],
  "metadata": {
    "kernelspec": {
      "display_name": "Python 3",
      "language": "python",
      "name": "python3"
    },
    "language_info": {
      "codemirror_mode": {
        "name": "ipython",
        "version": 3
      },
      "file_extension": ".py",
      "mimetype": "text/x-python",
      "name": "python",
      "nbconvert_exporter": "python",
      "pygments_lexer": "ipython3",
      "version": "3.12.1"
    },
    "nteract": {
      "version": "nteract-front-end@1.0.0"
    }
  },
  "nbformat": 4,
  "nbformat_minor": 1
}
