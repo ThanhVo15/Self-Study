{
  "cells": [
    {
      "attachments": {},
      "cell_type": "markdown",
      "source": [
        "# What is a neural network\n",
        "\n",
        "A neural network is a collection of **neurons** that are connected by layers. Each neuron is a small\n",
        "computing unit that performs simple calculations to collectively solve a problem. Neurons are \n",
        "organized in 3 types of layers: input layer, hidden layer, and \n",
        "output layer.  The hidden and output layers contain a number of neurons. Neural networks mimic the way a human brain processes information.\n",
        "\n",
        "<img alt=\"Diagram showing the different types of layers in a neural network.\" src=\"../images/4-model-1.png\" />"
      ],
      "metadata": {}
    },
    {
      "cell_type": "markdown",
      "source": [
        "## Components of a neural network\n",
        "\n",
        "- An **activation function** determines whether a neuron should be activated or not. The computations that happen in a neural network include applying an activation function. If a neuron activates, then it means the input is important. There are different kinds of activation functions. The choice of which activation function to use depends on what you want the output to be. Another important role of an activation function is to add non-linearity to the model.\n",
        "\n",
        "    - _Binary_ is used to set an output node to 1 if the function result is positive and 0 if the function result is zero or negative. $f(x)= {\\small \\begin{cases} 0, & \\text{if } x < 0\\\\ 1, & \\text{if } x\\geq 0\\\\ \\end{cases}}$\n",
        "    - _Sigmoid_ is used to predict the probability of an output node being between 0 and 1.  $f(x) = {\\large \\frac{1}{1+e^{-x}}} $\n",
        "    - _Tanh_ is used to predict whether an output node is between 1 and -1, for classification use cases.  $f(x) = {\\large \\frac{e^{x} - e^{-x}}{e^{x} + e^{-x}}} $\n",
        "    - _ReLU_ (*rectified linear activation function*) is used to set the output node to 0 if the function result is negative and keeps the result value if the result is a positive value.  $f(x)= {\\small \\begin{cases} 0, & \\text{if } x < 0\\\\ x, & \\text{if } x\\geq 0\\\\ \\end{cases}}$\n",
        "- **Weights** influence how close the output of our network is to the expected output value. As an input enters the neuron, it gets multiplied by a weight value and the resulting output is either observed, or passed to the next layer in the neural network. Weights for all neurons in a layer are organized into one tensor.\n",
        "- **Bias** makes up the difference between the activation function's output and its intended output. A low bias suggest that the network is making more assumptions about the form of the output, whereas a high bias value makes fewer assumptions about the form of the output. \n",
        "\n",
        "<img alt=\"Diagram showing neural computation.\" src=\"../images/4-model-2.png\" />\n",
        "\n",
        "We can say that an output $y$ of a neural network layer with weights $W$ and bias $b$ is computed as summation of the inputs multiplied by the weights plus the bias. $x = \\sum{(weights * inputs) + bias} $, where $f(x)$ is the activation function."
      ],
      "metadata": {}
    },
    {
      "cell_type": "markdown",
      "source": [
        "# Build a neural network\n",
        "\n",
        "Neural networks are comprised of layers and modules that perform operations on data. The `torch.nn` namespace provides all the building blocks you'll need to build your own neural network. Every module in PyTorch subclasses `nn.Module`. A neural network is itself a module that consists of other modules (layers). This nested structure allows for building and managing complex architectures easily.\n",
        "\n",
        "In the following sections, we'll build a neural network to classify images in the FashionMNIST dataset."
      ],
      "metadata": {}
    },
    {
      "cell_type": "code",
      "source": [
        "%matplotlib inline\n",
        "import os\n",
        "import torch\n",
        "from torch import nn\n",
        "from torch.utils.data import DataLoader\n",
        "from torchvision import datasets, transforms"
      ],
      "outputs": [],
      "execution_count": 1,
      "metadata": {}
    },
    {
      "cell_type": "markdown",
      "source": [
        "## Get a hardware device for training\n",
        "\n",
        "We want to be able to train our model on a hardware accelerator like a GPU, if one is available. Let's check to see whether \n",
        "`torch.cuda` is available; if not, we'll continue to use the CPU."
      ],
      "metadata": {}
    },
    {
      "cell_type": "code",
      "source": [
        "device = 'cuda' if torch.cuda.is_available() else 'cpu'\n",
        "print('Using {} device'.format(device))"
      ],
      "outputs": [
        {
          "output_type": "stream",
          "name": "stdout",
          "text": "Using cpu device\n"
        }
      ],
      "execution_count": 2,
      "metadata": {}
    },
    {
      "cell_type": "markdown",
      "source": [
        "## Define the class\n",
        "\n",
        "We define our neural network by subclassing `nn.Module`, and initialize the neural network layers in `__init__`. Every `nn.Module` subclass implements the operations on input data in the `forward` method.\n",
        "\n",
        "Our neural network is composed of the following:\n",
        "\n",
        "- The input layer with 28x28 or 784 features/pixels.\n",
        "- The first linear module takes the input 784 features and transforms it to a hidden layer with 512 features.\n",
        "- The ReLU activation function will be applied in the transformation.\n",
        "- The second linear module takes 512 features as input from the first hidden layer and transforms it to the next hidden layer with 512 features.\n",
        "- The ReLU activation function will be applied in the transformation.\n",
        "- The third linear module take 512 features as input from the second hidden layer and transforms those features to the output layer with 10, which is the number of classes.\n",
        "- The ReLU activation function will be applied in the transformation."
      ],
      "metadata": {}
    },
    {
      "cell_type": "code",
      "source": [
        "class NeuralNetwork(nn.Module):\n",
        "    def __init__(self):\n",
        "        super(NeuralNetwork, self).__init__()\n",
        "        self.flatten = nn.Flatten()\n",
        "        self.linear_relu_stack = nn.Sequential(\n",
        "            nn.Linear(28*28, 512),\n",
        "            nn.ReLU(),\n",
        "            nn.Linear(512, 512),\n",
        "            nn.ReLU(),\n",
        "            nn.Linear(512, 10),\n",
        "            nn.ReLU()\n",
        "        )\n",
        "\n",
        "    def forward(self, x):\n",
        "        x = self.flatten(x)\n",
        "        logits = self.linear_relu_stack(x)\n",
        "        return logits"
      ],
      "outputs": [],
      "execution_count": 3,
      "metadata": {}
    },
    {
      "cell_type": "markdown",
      "source": [
        "We create an instance of `NeuralNetwork`, and move it to the `device`, and print \n",
        "its structure."
      ],
      "metadata": {}
    },
    {
      "cell_type": "code",
      "source": [
        "model = NeuralNetwork().to(device)\n",
        "print(model)"
      ],
      "outputs": [
        {
          "output_type": "stream",
          "name": "stdout",
          "text": "NeuralNetwork(\n  (flatten): Flatten(start_dim=1, end_dim=-1)\n  (linear_relu_stack): Sequential(\n    (0): Linear(in_features=784, out_features=512, bias=True)\n    (1): ReLU()\n    (2): Linear(in_features=512, out_features=512, bias=True)\n    (3): ReLU()\n    (4): Linear(in_features=512, out_features=10, bias=True)\n    (5): ReLU()\n  )\n)\n"
        }
      ],
      "execution_count": 4,
      "metadata": {}
    },
    {
      "cell_type": "markdown",
      "source": [
        "To use the model, we pass it the input data. This executes the model's `forward`, along with some background operations. However, do not call `model.forward()` directly! Calling the model on the input returns a 10-dimensional tensor with raw predicted values for each class.\n",
        "\n",
        "We get the prediction densities by passing it through an instance of the `nn.Softmax`."
      ],
      "metadata": {}
    },
    {
      "cell_type": "code",
      "source": [
        "X = torch.rand(1, 28, 28, device=device)\n",
        "logits = model(X) \n",
        "pred_probab = nn.Softmax(dim=1)(logits)\n",
        "y_pred = pred_probab.argmax(1)\n",
        "print(f\"Predicted class: {y_pred}\")"
      ],
      "outputs": [
        {
          "output_type": "stream",
          "name": "stdout",
          "text": "Predicted class: tensor([3])\n"
        }
      ],
      "execution_count": 5,
      "metadata": {}
    },
    {
      "cell_type": "markdown",
      "source": [
        "## Weight and Bias\n",
        "\n",
        "\n",
        "The `nn.Linear` module randomly initializes the ${weights}$  and ${ bias}$ for each layer and internally stores the values in Tensors."
      ],
      "metadata": {}
    },
    {
      "cell_type": "code",
      "source": [
        "print(f\"First Linear weights: {model.linear_relu_stack[0].weight} \\n\")\n",
        "\n",
        "print(f\"First Linear biases: {model.linear_relu_stack[0].bias} \\n\")"
      ],
      "outputs": [
        {
          "output_type": "stream",
          "name": "stdout",
          "text": "First Linear weights: Parameter containing:\ntensor([[ 3.2386e-02,  2.3847e-02, -4.3070e-03,  ..., -3.4132e-02,\n          2.1590e-02, -1.3003e-02],\n        [ 1.5112e-02,  3.4918e-02,  7.2326e-03,  ...,  1.5341e-02,\n         -1.5558e-02, -3.6016e-03],\n        [-2.3705e-02, -7.6800e-03,  6.9146e-03,  ...,  2.7666e-02,\n         -3.5497e-02,  2.4581e-03],\n        ...,\n        [-9.3576e-03,  1.6584e-02,  2.5171e-02,  ...,  2.6403e-02,\n          1.5573e-02,  8.6261e-05],\n        [ 2.2244e-02,  1.9554e-02,  2.6979e-02,  ..., -1.7507e-02,\n          1.9549e-02, -2.5172e-02],\n        [-2.8888e-02, -3.4630e-02,  3.2203e-02,  ...,  2.9291e-02,\n          2.1302e-02,  3.5620e-04]], requires_grad=True) \n\nFirst Linear biases: Parameter containing:\ntensor([-1.1385e-02,  2.6143e-03, -3.1161e-03, -6.2934e-03, -9.7503e-03,\n         1.2544e-02, -6.7905e-03,  1.4402e-02,  1.4155e-02,  1.2684e-02,\n        -1.9996e-02,  1.0871e-02,  3.4975e-02,  1.0508e-02,  2.6975e-02,\n         1.9044e-02,  2.2641e-02,  1.5373e-02, -2.1043e-02,  1.4339e-03,\n        -2.5544e-02,  3.1123e-02,  1.1544e-02, -9.7199e-03, -2.1168e-02,\n        -1.1515e-02,  6.4268e-03, -2.4067e-02,  7.7121e-03,  9.6560e-03,\n         6.8725e-03,  2.9447e-02,  1.8911e-02, -6.5723e-03, -4.5806e-03,\n         8.7233e-04, -1.4497e-02,  7.0242e-03, -2.0354e-02, -2.8961e-02,\n         2.3087e-02, -1.0364e-02, -2.3547e-02, -3.0850e-02, -1.4569e-02,\n        -2.0834e-02,  2.9685e-02, -9.1947e-03, -3.7273e-03,  2.5944e-02,\n         1.7873e-02,  3.2286e-02, -3.5640e-02, -1.0481e-02, -2.4825e-02,\n         2.0864e-02,  5.8629e-03,  2.4019e-02,  2.9342e-02, -3.2986e-02,\n        -1.6335e-02,  9.4443e-03, -2.6737e-02, -2.9481e-02, -3.4142e-02,\n        -2.5942e-02,  2.4330e-02, -8.0973e-03, -3.1158e-02, -6.2113e-03,\n        -1.9254e-02, -2.0914e-02, -1.4133e-02,  8.0559e-03,  2.3268e-02,\n         1.0770e-02,  1.2400e-02,  1.3636e-02,  1.2053e-02, -1.2912e-02,\n         1.6070e-02, -1.4297e-02,  8.8300e-03,  7.9765e-03,  8.3833e-03,\n         2.2213e-02,  2.1558e-02, -7.7488e-03, -1.0037e-02,  3.5655e-02,\n        -2.8032e-02,  1.7790e-02,  9.7761e-04,  3.0771e-02, -1.7091e-02,\n         1.7014e-03,  1.5275e-03,  5.2341e-03, -1.3306e-02,  2.8854e-02,\n         6.4045e-03,  2.5541e-03,  1.9381e-02, -1.3544e-02, -2.7840e-02,\n        -2.2332e-02, -1.8222e-02,  3.3501e-02,  2.3398e-02, -8.0213e-03,\n        -6.7061e-03, -2.1082e-02, -1.6894e-02,  5.4049e-04,  1.1407e-02,\n         1.5890e-02, -2.8792e-02, -2.8657e-02, -2.3318e-03,  8.5618e-03,\n         2.7150e-02,  1.0853e-02, -1.5112e-02, -2.4170e-02,  8.6279e-03,\n         1.6768e-02,  1.5702e-02,  8.3929e-03,  3.0333e-02,  9.5306e-03,\n         1.9835e-02, -1.6174e-02, -1.1887e-02, -7.2005e-03, -2.0437e-02,\n        -2.8973e-02, -4.6649e-03, -9.5547e-03, -3.4642e-02,  6.6353e-03,\n        -1.3822e-02, -7.8880e-03, -1.2030e-02,  1.5617e-02, -3.5324e-02,\n         8.7074e-03,  2.7268e-02, -1.2381e-02,  3.5054e-02,  1.7557e-02,\n         7.5526e-03, -3.4994e-02, -1.0401e-02,  3.5582e-02,  2.1995e-02,\n         2.5936e-02, -1.7233e-02,  2.0177e-02,  2.4946e-02,  1.6515e-02,\n        -2.0589e-02, -1.9641e-03, -2.3222e-02, -2.7151e-02, -7.6583e-03,\n        -3.1017e-02,  2.7074e-02,  3.4550e-02, -1.0952e-02,  2.8149e-02,\n        -3.5306e-02,  3.2222e-02,  3.5320e-02, -1.5550e-02, -1.4656e-02,\n         2.7883e-02, -1.4597e-02,  2.9746e-02, -2.7997e-02, -1.3101e-02,\n         3.1049e-02,  1.7617e-02, -1.3522e-02,  2.2333e-02,  1.5571e-02,\n         1.0077e-02,  2.4671e-02,  1.7195e-02,  3.2512e-02,  1.9316e-02,\n        -3.5059e-02, -2.7082e-03, -3.2507e-02,  1.6835e-02, -1.9744e-02,\n         1.4307e-02, -1.4066e-02,  1.3139e-02,  3.0447e-02, -2.8681e-02,\n        -1.9285e-03,  3.5196e-02,  9.3472e-03,  1.4140e-02,  2.1124e-02,\n         3.5396e-02,  2.3614e-02, -3.5389e-02,  2.9588e-02, -4.6157e-03,\n        -3.0834e-02,  2.9956e-02, -3.3736e-02,  7.9975e-03,  1.4556e-02,\n         1.6249e-02,  3.0368e-03, -2.5505e-02, -3.2811e-02, -1.3784e-02,\n         2.5115e-03,  1.4273e-02, -1.9841e-02, -2.1421e-02,  2.6373e-02,\n         3.3212e-02, -1.0694e-02,  9.2845e-04, -3.0546e-02,  3.2236e-02,\n        -2.3796e-02, -1.7920e-02, -7.3267e-03,  1.2348e-02, -3.4294e-02,\n        -4.5514e-03,  1.0252e-02, -8.6620e-03,  2.9535e-02, -2.9956e-02,\n         3.4402e-02,  2.6141e-02,  2.6207e-02,  6.7347e-03,  3.2474e-02,\n        -1.6198e-02, -1.4775e-02,  9.1022e-03,  4.4739e-03, -3.3736e-02,\n        -1.7270e-02, -1.7027e-02,  2.8578e-02, -2.0285e-03, -9.8002e-03,\n        -1.9383e-03, -3.5309e-02, -1.1108e-02,  7.3092e-03, -1.5058e-02,\n        -1.6174e-02, -3.4203e-02,  2.6699e-02, -9.0954e-03,  2.6851e-02,\n         3.4830e-03,  9.1569e-03, -7.8554e-03,  2.9466e-02, -3.2138e-02,\n        -6.9964e-03,  1.5247e-02, -1.8567e-03, -2.4850e-02,  3.0189e-02,\n        -2.6068e-02, -3.3233e-02,  2.2098e-02,  3.0631e-02, -2.9569e-02,\n         1.3279e-02,  1.2644e-02, -2.5989e-02,  1.8861e-02, -2.3673e-02,\n        -1.8130e-02,  1.9790e-04, -1.0582e-02,  1.5575e-03, -8.8631e-03,\n         1.7490e-02,  3.1793e-03,  1.6222e-02,  1.4666e-03, -1.7690e-02,\n        -2.3959e-02, -1.8691e-02, -2.0542e-02, -3.0275e-02,  2.9482e-02,\n         1.6180e-03, -1.5619e-03,  1.2397e-02,  3.1946e-02, -1.5085e-02,\n        -1.2838e-02,  1.6247e-02, -5.6108e-03, -2.8130e-02, -1.5352e-02,\n        -2.4002e-02,  1.2729e-02,  2.8272e-02,  1.5520e-02, -8.2661e-03,\n        -3.7408e-03, -9.7311e-03, -1.4285e-02,  1.5121e-02,  1.1350e-02,\n         3.1434e-02,  1.6334e-02,  2.3980e-02,  3.3448e-02, -6.4323e-04,\n         1.6518e-02,  2.0840e-02,  2.8707e-02, -3.3824e-03, -2.9964e-02,\n        -3.4735e-02, -1.7655e-02, -2.4034e-02, -1.9507e-03, -1.5562e-02,\n         1.2586e-02, -9.4086e-03,  1.0345e-03,  3.1104e-03, -1.4382e-03,\n         1.7890e-02,  2.6514e-03,  1.9808e-03, -1.4898e-03, -2.0692e-02,\n        -1.5723e-02,  8.4653e-03, -7.9979e-03,  1.4477e-02, -1.0617e-02,\n        -1.2003e-02, -2.0699e-02, -9.5776e-03, -2.9597e-02,  1.0508e-03,\n         1.1122e-02, -4.3554e-03,  2.0067e-02, -3.3559e-02,  2.1149e-02,\n        -2.9754e-02, -3.3056e-02,  2.3852e-02, -5.3005e-03,  3.4935e-02,\n        -3.2878e-02,  1.3411e-02,  9.6476e-03,  1.0525e-02,  1.5628e-02,\n        -2.4715e-02, -3.3359e-02,  1.0909e-02,  2.7210e-02,  9.6413e-03,\n         1.7868e-02,  2.1509e-02,  2.2295e-02, -2.6220e-02,  5.7313e-03,\n         1.7922e-02,  1.5263e-02, -3.0223e-02,  7.8619e-03,  1.4252e-02,\n         7.7761e-03,  1.3987e-03, -1.7837e-02,  2.5447e-02, -1.2524e-02,\n        -1.4552e-03,  2.5018e-02,  2.0801e-02,  3.2107e-02,  2.3971e-02,\n        -3.3552e-02,  1.1075e-02,  7.5743e-03, -1.8361e-02, -9.4028e-03,\n         4.2728e-03,  1.1369e-02,  2.2754e-02, -2.5646e-03,  1.4456e-02,\n        -1.8175e-02, -2.4043e-02, -6.5805e-03, -1.9500e-02,  9.5882e-03,\n         3.5533e-02,  2.9930e-02,  3.5427e-02, -3.5656e-02,  1.4145e-02,\n        -3.0069e-02, -2.3526e-02, -2.7544e-02, -1.1016e-02, -2.2877e-02,\n         1.7290e-02,  6.1724e-03, -1.0559e-02,  3.8183e-03, -1.6033e-02,\n         2.5096e-02,  1.6267e-02,  1.7806e-02, -9.3948e-04, -3.4257e-02,\n         1.7266e-02, -1.4774e-02,  2.5334e-02,  3.2756e-02,  3.7080e-03,\n        -7.7831e-03, -7.4164e-03, -2.2333e-02,  3.2378e-02, -9.8516e-03,\n         3.5224e-02,  4.7627e-03, -2.1170e-02,  1.5203e-02, -2.1825e-02,\n         9.8843e-03, -2.4004e-02, -3.2824e-02, -2.8260e-02, -2.0394e-02,\n        -4.3242e-03, -2.8806e-02, -3.4014e-02, -1.5652e-02,  1.9467e-02,\n        -1.9553e-02,  1.5621e-02, -1.8675e-02,  2.8504e-02, -2.7693e-02,\n        -2.9043e-02,  3.3761e-02, -2.5584e-02, -1.9907e-02,  2.8029e-02,\n         1.4348e-02,  1.3946e-02,  5.1256e-03,  2.0183e-02, -1.4922e-02,\n        -2.7886e-02,  3.5131e-02, -2.7648e-02,  2.4320e-02, -6.5144e-03,\n         2.4640e-02,  2.4168e-02,  3.4849e-02, -8.0053e-03, -1.4718e-02,\n        -1.9254e-02, -1.4043e-02, -2.5643e-02, -5.3278e-05,  2.4210e-03,\n         2.1708e-02, -1.6561e-02,  3.0044e-02, -2.4422e-02, -2.4018e-02,\n         1.2936e-02, -2.9714e-02, -1.7834e-02, -6.1244e-03,  8.5571e-03,\n         2.4818e-02, -1.2648e-03,  3.1523e-02,  3.0419e-02, -8.7205e-03,\n         2.2710e-02,  3.3314e-02, -1.2391e-03, -3.3650e-03, -1.6727e-02,\n        -7.6591e-03, -2.6408e-02,  1.9124e-03, -1.7812e-02,  1.8229e-02,\n        -1.0983e-02, -9.1618e-03], requires_grad=True) \n\n"
        }
      ],
      "execution_count": 6,
      "metadata": {}
    },
    {
      "cell_type": "markdown",
      "source": [
        "## Model layers\n",
        "\n",
        "Let's break down the layers in the FashionMNIST model. To illustrate it, we \n",
        "will take a sample minibatch of 3 images of size **28x28** and see what happens to it as \n",
        "we pass it through the network. "
      ],
      "metadata": {}
    },
    {
      "cell_type": "code",
      "source": [
        "input_image = torch.rand(3,28,28)\n",
        "print(input_image.size())"
      ],
      "outputs": [
        {
          "output_type": "stream",
          "name": "stdout",
          "text": "torch.Size([3, 28, 28])\n"
        }
      ],
      "execution_count": 7,
      "metadata": {}
    },
    {
      "cell_type": "markdown",
      "source": [
        "### nn.Flatten\n",
        "\n",
        "We initialize the `nn.Flatten` layer to convert each 2D 28x28 image into a contiguous array of 784 pixel values, that is, the minibatch dimension (at dim=0) is maintained. Each of the pixels are passed to the input layer of the neural network.  \n",
        "\n",
        "<img alt=\"Diagram showing how pixels in an image are flattened.\" src=\"../images/4-model-3.png\" />"
      ],
      "metadata": {}
    },
    {
      "cell_type": "code",
      "source": [
        "flatten = nn.Flatten()\n",
        "flat_image = flatten(input_image)\n",
        "print(flat_image.size())"
      ],
      "outputs": [
        {
          "output_type": "stream",
          "name": "stdout",
          "text": "torch.Size([3, 784])\n"
        }
      ],
      "execution_count": 8,
      "metadata": {}
    },
    {
      "cell_type": "markdown",
      "source": [
        "### nn.Linear \n",
        "\n",
        "The linear layer is a module that applies a linear transformation on the input using its stored weights and biases. The grayscale value of each pixel in the input layer will be connected to neurons in the hidden layer for calculation. The calculation used for the transformation is ${{weight * input + bias}} $.\n"
      ],
      "metadata": {}
    },
    {
      "cell_type": "code",
      "source": [
        "layer1 = nn.Linear(in_features=28*28, out_features=20)\n",
        "hidden1 = layer1(flat_image)\n",
        "print(hidden1.size())"
      ],
      "outputs": [
        {
          "output_type": "stream",
          "name": "stdout",
          "text": "torch.Size([3, 20])\n"
        }
      ],
      "execution_count": 9,
      "metadata": {}
    },
    {
      "cell_type": "markdown",
      "source": [
        "### nn.ReLU\n",
        "\n",
        "Non-linear activations are what create the complex mappings between the model's inputs and outputs.\n",
        "They are applied after linear transformations to introduce *nonlinearity*, helping neural networks\n",
        "learn a wide variety of phenomena. In this model, we use `nn.ReLU` between our linear layers, but there's other activations to introduce non-linearity in your model.\n",
        "\n",
        "The ReLU activation function takes the output from the linear layer calculation and replaces the negative values with zeros.\n",
        "\n",
        "Linear output: ${ x = {weight * input + bias}} $.  \n",
        "ReLU:  $f(x)= \n",
        "\\begin{cases}\n",
        "    0, & \\text{if } x < 0\\\\\n",
        "    x, & \\text{if } x\\geq 0\\\\\n",
        "\\end{cases}\n",
        "$"
      ],
      "metadata": {}
    },
    {
      "cell_type": "code",
      "source": [
        "print(f\"Before ReLU: {hidden1}\\n\\n\")\n",
        "hidden1 = nn.ReLU()(hidden1)\n",
        "print(f\"After ReLU: {hidden1}\")"
      ],
      "outputs": [
        {
          "output_type": "stream",
          "name": "stdout",
          "text": "Before ReLU: tensor([[ 0.8254, -0.3166, -0.0052, -0.9478, -0.1542,  0.6421,  0.2462,  0.3586,\n          0.5633, -0.1338,  0.1738,  0.7022,  0.6321, -0.0943,  0.3804, -0.2935,\n          0.1034,  0.2010, -0.1116,  0.8513],\n        [ 0.9882,  0.1794, -0.0238, -0.6099, -0.1634,  0.7635,  0.3813,  0.5999,\n          0.3719,  0.2264,  0.0529,  0.3535,  0.5881,  0.0016,  0.2503, -0.3277,\n          0.2055,  0.1752,  0.0367,  0.6454],\n        [ 0.8794, -0.2473, -0.0307, -0.6912, -0.2875,  0.4068,  0.1922,  0.2563,\n          0.3957, -0.1206, -0.0643,  0.1968,  0.5175, -0.3131,  0.3144, -0.1654,\n          0.1689,  0.2047,  0.0504,  0.8039]], grad_fn=<AddmmBackward0>)\n\n\nAfter ReLU: tensor([[0.8254, 0.0000, 0.0000, 0.0000, 0.0000, 0.6421, 0.2462, 0.3586, 0.5633,\n         0.0000, 0.1738, 0.7022, 0.6321, 0.0000, 0.3804, 0.0000, 0.1034, 0.2010,\n         0.0000, 0.8513],\n        [0.9882, 0.1794, 0.0000, 0.0000, 0.0000, 0.7635, 0.3813, 0.5999, 0.3719,\n         0.2264, 0.0529, 0.3535, 0.5881, 0.0016, 0.2503, 0.0000, 0.2055, 0.1752,\n         0.0367, 0.6454],\n        [0.8794, 0.0000, 0.0000, 0.0000, 0.0000, 0.4068, 0.1922, 0.2563, 0.3957,\n         0.0000, 0.0000, 0.1968, 0.5175, 0.0000, 0.3144, 0.0000, 0.1689, 0.2047,\n         0.0504, 0.8039]], grad_fn=<ReluBackward0>)\n"
        }
      ],
      "execution_count": 10,
      "metadata": {
        "scrolled": true
      }
    },
    {
      "cell_type": "markdown",
      "source": [
        "### nn.Sequential\n",
        "\n",
        "`nn.Sequential` is an ordered \n",
        "container of modules. The data is passed through all the modules in their defined order. You can use\n",
        "sequential containers to put together a quick network like `seq_modules`."
      ],
      "metadata": {}
    },
    {
      "cell_type": "code",
      "source": [
        "seq_modules = nn.Sequential(\n",
        "    flatten,\n",
        "    layer1,\n",
        "    nn.ReLU(),\n",
        "    nn.Linear(20, 10)\n",
        ")\n",
        "input_image = torch.rand(3,28,28)\n",
        "logits = seq_modules(input_image)"
      ],
      "outputs": [],
      "execution_count": 11,
      "metadata": {}
    },
    {
      "cell_type": "markdown",
      "source": [
        "### nn.Softmax\n",
        "\n",
        "The last linear layer of the neural network returns `logits` (the raw values in \\[`-infty`, `infty`]), which are passed to the\n",
        "`nn.Softmax` module. The Softmax activation function is used to calculate the probability of the output from the neural network. It is only used on the output layer of a neural network. The results are scaled to values \\[0, 1\\] representing the model's predicted densities for each class. The `dim` parameter indicates the dimension along which the result values must sum to 1. The node with the highest probability predicts the desired output.\n",
        "\n",
        "<img alt=\"Diagram shows softmax formula\" src=\"../images/4-model-4.png\" />"
      ],
      "metadata": {}
    },
    {
      "cell_type": "code",
      "source": [
        "softmax = nn.Softmax(dim=1)\n",
        "pred_probab = softmax(logits)"
      ],
      "outputs": [],
      "execution_count": 12,
      "metadata": {}
    },
    {
      "cell_type": "markdown",
      "source": [
        "## Model parameters\n",
        "\n",
        "Many layers inside a neural network are *parameterized*, that is, the layers have associated weights \n",
        "and biases that are optimized during training. Subclassing `nn.Module` automatically \n",
        "tracks all fields defined inside your model object, and makes all parameters \n",
        "accessible using your model's `parameters()` or `named_parameters()` methods.\n",
        "\n",
        "In this example, we iterate over each parameter, and print its size and a preview of its values."
      ],
      "metadata": {}
    },
    {
      "cell_type": "code",
      "source": [
        "print(\"Model structure: \", model, \"\\n\\n\")\n",
        "\n",
        "for name, param in model.named_parameters():\n",
        "    print(f\"Layer: {name} | Size: {param.size()} | Values : {param[:2]} \\n\")"
      ],
      "outputs": [
        {
          "output_type": "stream",
          "name": "stdout",
          "text": "Model structure:  NeuralNetwork(\n  (flatten): Flatten(start_dim=1, end_dim=-1)\n  (linear_relu_stack): Sequential(\n    (0): Linear(in_features=784, out_features=512, bias=True)\n    (1): ReLU()\n    (2): Linear(in_features=512, out_features=512, bias=True)\n    (3): ReLU()\n    (4): Linear(in_features=512, out_features=10, bias=True)\n    (5): ReLU()\n  )\n) \n\n\nLayer: linear_relu_stack.0.weight | Size: torch.Size([512, 784]) | Values : tensor([[ 0.0324,  0.0238, -0.0043,  ..., -0.0341,  0.0216, -0.0130],\n        [ 0.0151,  0.0349,  0.0072,  ...,  0.0153, -0.0156, -0.0036]],\n       grad_fn=<SliceBackward0>) \n\nLayer: linear_relu_stack.0.bias | Size: torch.Size([512]) | Values : tensor([-0.0114,  0.0026], grad_fn=<SliceBackward0>) \n\nLayer: linear_relu_stack.2.weight | Size: torch.Size([512, 512]) | Values : tensor([[ 0.0367,  0.0219,  0.0276,  ..., -0.0280,  0.0194, -0.0179],\n        [-0.0178,  0.0143, -0.0109,  ..., -0.0072, -0.0290, -0.0058]],\n       grad_fn=<SliceBackward0>) \n\nLayer: linear_relu_stack.2.bias | Size: torch.Size([512]) | Values : tensor([-0.0419,  0.0146], grad_fn=<SliceBackward0>) \n\nLayer: linear_relu_stack.4.weight | Size: torch.Size([10, 512]) | Values : tensor([[-0.0355,  0.0336, -0.0408,  ...,  0.0340,  0.0336, -0.0135],\n        [-0.0253, -0.0142, -0.0272,  ..., -0.0408, -0.0077,  0.0038]],\n       grad_fn=<SliceBackward0>) \n\nLayer: linear_relu_stack.4.bias | Size: torch.Size([10]) | Values : tensor([-0.0190,  0.0349], grad_fn=<SliceBackward0>) \n\n"
        }
      ],
      "execution_count": 13,
      "metadata": {
        "scrolled": true
      }
    }
  ],
  "metadata": {
    "kernelspec": {
      "name": "conda-env-py38_default-py",
      "language": "python",
      "display_name": "py38_default"
    },
    "language_info": {
      "name": "python",
      "version": "3.8.13",
      "mimetype": "text/x-python",
      "codemirror_mode": {
        "name": "ipython",
        "version": 3
      },
      "pygments_lexer": "ipython3",
      "nbconvert_exporter": "python",
      "file_extension": ".py"
    },
    "kernel_info": {
      "name": "conda-env-py38_default-py"
    },
    "nteract": {
      "version": "nteract-front-end@1.0.0"
    }
  },
  "nbformat": 4,
  "nbformat_minor": 1
}