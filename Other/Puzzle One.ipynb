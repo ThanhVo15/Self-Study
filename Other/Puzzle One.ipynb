{
 "cells": [
  {
   "cell_type": "code",
   "execution_count": 1,
   "metadata": {},
   "outputs": [
    {
     "data": {
      "text/plain": [
       "(350, 197, 131, 110, 44)"
      ]
     },
     "execution_count": 1,
     "metadata": {},
     "output_type": "execute_result"
    }
   ],
   "source": [
    "import pkg_resources\n",
    "installed_packages = [pkg.key for pkg in pkg_resources.working_set]\n",
    "installed_packages\n"
   ]
  },
  {
   "cell_type": "code",
   "execution_count": 3,
   "metadata": {},
   "outputs": [
    {
     "data": {
      "text/plain": [
       "(33.0000000000000, {L: 80.0000000000000, M: 25.0000000000000})"
      ]
     },
     "execution_count": 3,
     "metadata": {},
     "output_type": "execute_result"
    }
   ],
   "source": [
    "from sympy import symbols, Eq, solve\n",
    "\n",
    "# Define symbols\n",
    "W = symbols('W')\n",
    "\n",
    "# Equation for W based on the descriptions\n",
    "equation_W = Eq(W, 0.6 * (W + 22))\n",
    "\n",
    "# Solve for W\n",
    "W_solution = solve(equation_W, W)[0]\n",
    "W_solution\n",
    "# Define more symbols\n",
    "L, M = symbols('L M')\n",
    "\n",
    "# Given that L - M = 55\n",
    "equation_LM = Eq(L - M, 55)\n",
    "\n",
    "# Equation for total length\n",
    "equation_total_length = Eq(2*L + M + 5*W_solution, 350)\n",
    "\n",
    "# Solve for L and M\n",
    "solution_LM = solve((equation_LM, equation_total_length), (L, M))\n",
    "solution_LM\n",
    "# Re-evaluate W_solution for clarity\n",
    "W_solution = solve(equation_W, W)[0]\n",
    "\n",
    "# Re-calculate solution for L and M with the already defined equations\n",
    "solution_LM = solve((equation_LM, equation_total_length), (L, M))\n",
    "\n",
    "# Output the solution for W as well as L and M\n",
    "(W_solution, solution_LM)\n"
   ]
  },
  {
   "cell_type": "code",
   "execution_count": 4,
   "metadata": {},
   "outputs": [
    {
     "data": {
      "text/plain": [
       "-12.5"
      ]
     },
     "execution_count": 4,
     "metadata": {},
     "output_type": "execute_result"
    }
   ],
   "source": [
    "# Gear teeth counts\n",
    "teeth_A = 20\n",
    "teeth_B = 10\n",
    "teeth_C = 25\n",
    "\n",
    "# Gear C's rotational speed (rpm)\n",
    "speed_C = 10  # clockwise\n",
    "\n",
    "# Calculate Gear B's rotational speed based on the gear ratio with Gear C\n",
    "# The speed ratio is inversely proportional to the number of teeth\n",
    "# Since Gear C rotates clockwise, Gear B will rotate counterclockwise\n",
    "speed_B = speed_C * (teeth_C / teeth_B)\n",
    "\n",
    "# Calculate Gear A's rotational speed based on the gear ratio with Gear B\n",
    "# Gear A will rotate clockwise if Gear B rotates counterclockwise\n",
    "speed_A = speed_B * (teeth_B / teeth_A)\n",
    "\n",
    "# Since the gears are in mesh, if Gear B rotates counterclockwise, Gear A rotates clockwise\n",
    "# We denote the clockwise rotation as positive and counterclockwise as negative\n",
    "# Therefore, if Gear B rotates counterclockwise, the speed of Gear A is negative\n",
    "speed_A = -speed_A\n",
    "\n",
    "speed_A\n"
   ]
  }
 ],
 "metadata": {
  "kernelspec": {
   "display_name": "Python 3",
   "language": "python",
   "name": "python3"
  },
  "language_info": {
   "codemirror_mode": {
    "name": "ipython",
    "version": 3
   },
   "file_extension": ".py",
   "mimetype": "text/x-python",
   "name": "python",
   "nbconvert_exporter": "python",
   "pygments_lexer": "ipython3",
   "version": "3.12.1"
  }
 },
 "nbformat": 4,
 "nbformat_minor": 2
}
