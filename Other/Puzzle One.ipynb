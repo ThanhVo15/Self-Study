{
 "cells": [
  {
   "cell_type": "code",
   "execution_count": 1,
   "metadata": {},
   "outputs": [
    {
     "data": {
      "text/plain": [
       "{L: 80.0000000000000, M: 25.0000000000000}"
      ]
     },
     "execution_count": 1,
     "metadata": {},
     "output_type": "execute_result"
    }
   ],
   "source": [
    "from sympy import symbols, Eq, solve\n",
    "\n",
    "# Define symbols\n",
    "W = symbols('W')\n",
    "\n",
    "# Equation for W based on the descriptions\n",
    "equation_W = Eq(W, 0.6 * (W + 22))\n",
    "\n",
    "# Solve for W\n",
    "W_solution = solve(equation_W, W)[0]\n",
    "W_solution\n",
    "# Define more symbols\n",
    "L, M = symbols('L M')\n",
    "\n",
    "# Given that L - M = 55\n",
    "equation_LM = Eq(L - M, 55)\n",
    "\n",
    "# Equation for total length\n",
    "equation_total_length = Eq(2*L + M + 5*W_solution, 350)\n",
    "\n",
    "# Solve for L and M\n",
    "solution_LM = solve((equation_LM, equation_total_length), (L, M))\n",
    "solution_LM\n"
   ]
  }
 ],
 "metadata": {
  "kernelspec": {
   "display_name": "Python 3",
   "language": "python",
   "name": "python3"
  },
  "language_info": {
   "codemirror_mode": {
    "name": "ipython",
    "version": 3
   },
   "file_extension": ".py",
   "mimetype": "text/x-python",
   "name": "python",
   "nbconvert_exporter": "python",
   "pygments_lexer": "ipython3",
   "version": "3.12.1"
  }
 },
 "nbformat": 4,
 "nbformat_minor": 2
}
