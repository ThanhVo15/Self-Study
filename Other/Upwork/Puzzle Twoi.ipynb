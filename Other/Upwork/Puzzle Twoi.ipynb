{
 "cells": [
  {
   "cell_type": "code",
   "execution_count": 1,
   "metadata": {},
   "outputs": [
    {
     "data": {
      "text/plain": [
       "-12.5"
      ]
     },
     "execution_count": 1,
     "metadata": {},
     "output_type": "execute_result"
    }
   ],
   "source": [
    "# Given values for the gear teeth\n",
    "teeth_A = 20  # Teeth of Gear A\n",
    "teeth_B = 10  # Teeth of Gear B\n",
    "teeth_C = 25  # Teeth of Gear C\n",
    "\n",
    "# Given rotational speed for Gear C\n",
    "rpm_C = 10  # RPM of Gear C, clockwise\n",
    "\n",
    "# Using the gear ratio, the speed of Gear B (rpm_B) can be found by:\n",
    "# (rpm_C * teeth_C) = (rpm_B * teeth_B)\n",
    "rpm_B = (rpm_C * teeth_C) / teeth_B\n",
    "\n",
    "# Now find the speed of Gear A (rpm_A) by using the gear ratio:\n",
    "# (rpm_B * teeth_B) = (rpm_A * teeth_A)\n",
    "# Since the gears alternate in direction, the direction of Gear A will be opposite to that of Gear C.\n",
    "# If Gear C is clockwise (positive), Gear A will be counterclockwise (negative).\n",
    "rpm_A = (rpm_B * teeth_B) / teeth_A\n",
    "\n",
    "# Since Gear A and Gear C rotate in opposite directions,\n",
    "# we need to take the negative of the calculated rpm_A for the correct direction\n",
    "rpm_A = -rpm_A\n",
    "\n",
    "rpm_A\n"
   ]
  }
 ],
 "metadata": {
  "kernelspec": {
   "display_name": "Python 3",
   "language": "python",
   "name": "python3"
  },
  "language_info": {
   "codemirror_mode": {
    "name": "ipython",
    "version": 3
   },
   "file_extension": ".py",
   "mimetype": "text/x-python",
   "name": "python",
   "nbconvert_exporter": "python",
   "pygments_lexer": "ipython3",
   "version": "3.12.1"
  }
 },
 "nbformat": 4,
 "nbformat_minor": 2
}
