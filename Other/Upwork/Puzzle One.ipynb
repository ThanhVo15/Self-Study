{
 "cells": [
  {
   "cell_type": "code",
   "execution_count": 2,
   "metadata": {},
   "outputs": [
    {
     "data": {
      "text/plain": [
       "{L: 80, S: 25, W: 33}"
      ]
     },
     "execution_count": 2,
     "metadata": {},
     "output_type": "execute_result"
    }
   ],
   "source": [
    "from sympy import symbols, Eq, solve\n",
    "\n",
    "# Define the symbols\n",
    "L, S, W = symbols('L S W')\n",
    "\n",
    "# The sum of the lengths of all pieces together should be equal to 350 inches.\n",
    "# We have 2 handles of length L, 1 support of length S, and 5 pieces of width W.\n",
    "total_length_eq = Eq(2 * L + S + 5 * W, 350)\n",
    "\n",
    "# The width of the handbarrow should be 60% of the difference between the full length of the\n",
    "# handbarrow and the length of the support.\n",
    "width_eq = Eq(W, 0.6 * (L - S))\n",
    "\n",
    "# The difference between the full length of the handbarrow and the length of the support should\n",
    "# be 22 inches longer than the width.\n",
    "length_difference_eq = Eq(L - S, W + 22)\n",
    "\n",
    "# Solve the system of equations\n",
    "solution = solve((total_length_eq, width_eq, length_difference_eq), (L, S, W))\n",
    "\n",
    "# Get the dimensions rounded to the closest integer\n",
    "dimensions = {key: int(round(value)) for key, value in solution.items()}\n",
    "\n",
    "dimensions\n"
   ]
  }
 ],
 "metadata": {
  "kernelspec": {
   "display_name": "Python 3",
   "language": "python",
   "name": "python3"
  },
  "language_info": {
   "codemirror_mode": {
    "name": "ipython",
    "version": 3
   },
   "file_extension": ".py",
   "mimetype": "text/x-python",
   "name": "python",
   "nbconvert_exporter": "python",
   "pygments_lexer": "ipython3",
   "version": "3.12.1"
  }
 },
 "nbformat": 4,
 "nbformat_minor": 2
}
